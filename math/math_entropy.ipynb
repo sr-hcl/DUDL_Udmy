{
 "cells": [
  {
   "cell_type": "code",
   "execution_count": null,
   "metadata": {},
   "outputs": [],
   "source": [
    "import numpy as np\n",
    "import matplotlib.pyplot as plt"
   ]
  },
  {
   "cell_type": "markdown",
   "metadata": {},
   "source": [
    "### Entropy\n",
    "\n",
    "$$ H(p)=-\\sum_{x} p(x) \\log(p(x)) $$"
   ]
  },
  {
   "cell_type": "code",
   "execution_count": 3,
   "metadata": {},
   "outputs": [
    {
     "name": "stdout",
     "output_type": "stream",
     "text": [
      "0.5623351446188083\n"
     ]
    }
   ],
   "source": [
    "p=.25\n",
    "\n",
    "H=-(p*np.log(p) + (1-p)*np.log(1-p))\n",
    "print(H)"
   ]
  },
  {
   "cell_type": "code",
   "execution_count": 4,
   "metadata": {},
   "outputs": [
    {
     "name": "stdout",
     "output_type": "stream",
     "text": [
      "0.5623351446188083\n"
     ]
    }
   ],
   "source": [
    "# better way to write\n",
    "x=[.25,.75] # list out all probabs in this... //sum should be 1. cause probab...\n",
    "\n",
    "H=0\n",
    "for p in x:\n",
    "    H-=p*np.log(p)\n",
    "\n",
    "print(H)"
   ]
  },
  {
   "cell_type": "markdown",
   "metadata": {},
   "source": [
    "### Cross-entropy.\n",
    "btw 2 events"
   ]
  },
  {
   "cell_type": "markdown",
   "metadata": {},
   "source": [
    "$$ H(p)=-\\sum_{x} p(x) \\log(q(x)) $$"
   ]
  },
  {
   "cell_type": "code",
   "execution_count": 5,
   "metadata": {},
   "outputs": [
    {
     "name": "stdout",
     "output_type": "stream",
     "text": [
      "1.3862943611198906\n"
     ]
    }
   ],
   "source": [
    "# probabs must sum to 1\n",
    "p=[1,0]\n",
    "q=[.25,.75]\n",
    "\n",
    "H=0\n",
    "for i in range(len(p)):\n",
    "    H-=p[i]*np.log(q[i])\n",
    "\n",
    "# H=-1*log(0.25) -0*...\n",
    "\n",
    "print(H)"
   ]
  },
  {
   "cell_type": "markdown",
   "metadata": {},
   "source": [
    "### Using pytorch"
   ]
  },
  {
   "cell_type": "code",
   "execution_count": 9,
   "metadata": {},
   "outputs": [
    {
     "data": {
      "text/plain": [
       "tensor(1.3863)"
      ]
     },
     "execution_count": 9,
     "metadata": {},
     "output_type": "execute_result"
    }
   ],
   "source": [
    "import torch\n",
    "import torch.nn.functional as F\n",
    "\n",
    "# inputs to F._() must be tensors.\n",
    "q_tensor=torch.Tensor(q)\n",
    "p_tensor=torch.Tensor(p)\n",
    "\n",
    "F.binary_cross_entropy(q_tensor,p_tensor)\n",
    "# format as binary_cross_entropy(model_predicted_values, actual_is_or_isnot_the_category)"
   ]
  }
 ],
 "metadata": {
  "kernelspec": {
   "display_name": "Python 3",
   "language": "python",
   "name": "python3"
  },
  "language_info": {
   "codemirror_mode": {
    "name": "ipython",
    "version": 3
   },
   "file_extension": ".py",
   "mimetype": "text/x-python",
   "name": "python",
   "nbconvert_exporter": "python",
   "pygments_lexer": "ipython3",
   "version": "3.12.1"
  }
 },
 "nbformat": 4,
 "nbformat_minor": 2
}
