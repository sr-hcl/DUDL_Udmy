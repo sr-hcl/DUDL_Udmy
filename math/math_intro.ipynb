{
 "cells": [
  {
   "cell_type": "markdown",
   "metadata": {},
   "source": [
    "### Using Numpy"
   ]
  },
  {
   "cell_type": "code",
   "execution_count": 1,
   "metadata": {},
   "outputs": [],
   "source": [
    "import numpy as np\n",
    "import torch"
   ]
  },
  {
   "cell_type": "code",
   "execution_count": 2,
   "metadata": {},
   "outputs": [
    {
     "name": "stdout",
     "output_type": "stream",
     "text": [
      "[[1 2 3 4]]\n",
      " \n",
      "[[1]\n",
      " [2]\n",
      " [3]\n",
      " [4]]\n",
      " \n",
      "[[1 2 3 4]]\n"
     ]
    }
   ],
   "source": [
    "# Vector\n",
    "nv=np.array([ [1,2,3,4] ])\n",
    "print(nv), print(' ')\n",
    "\n",
    "# Transpose\n",
    "print(nv.T), print(' ')\n",
    "\n",
    "# Transpose.Transpose\n",
    "nvT=nv.T\n",
    "print(nvT.T)"
   ]
  },
  {
   "cell_type": "code",
   "execution_count": 3,
   "metadata": {},
   "outputs": [
    {
     "name": "stdout",
     "output_type": "stream",
     "text": [
      "[[1 2 3 4]\n",
      " [5 6 7 8]]\n",
      " \n",
      "[[1 5]\n",
      " [2 6]\n",
      " [3 7]\n",
      " [4 8]]\n",
      " \n",
      "[[1 2 3 4]\n",
      " [5 6 7 8]]\n"
     ]
    }
   ],
   "source": [
    "# Matrix\n",
    "nM=np.array([ [1,2,3,4],\n",
    "              [5,6,7,8] ])\n",
    "print(nM), print(' ')\n",
    "\n",
    "# Transpose\n",
    "print(nM.T), print(' ')\n",
    "\n",
    "# Transpose.Transpose\n",
    "nMT=nM.T\n",
    "print(nMT.T)"
   ]
  },
  {
   "cell_type": "markdown",
   "metadata": {},
   "source": [
    "### Using pytorch"
   ]
  },
  {
   "cell_type": "code",
   "execution_count": 4,
   "metadata": {},
   "outputs": [
    {
     "name": "stdout",
     "output_type": "stream",
     "text": [
      "tensor([[1, 2, 3, 4]])\n",
      " \n",
      "tensor([[1],\n",
      "        [2],\n",
      "        [3],\n",
      "        [4]])\n",
      " \n",
      "tensor([[1, 2, 3, 4]])\n"
     ]
    }
   ],
   "source": [
    "#Vector\n",
    "tv=torch.tensor([ [1,2,3,4] ])\n",
    "print(tv), print(' ')\n",
    "\n",
    "# transpose\n",
    "print(tv.T), print(' ')\n",
    "\n",
    "# transpose.transpose\n",
    "tvT=tv.T\n",
    "print(tvT.T)"
   ]
  },
  {
   "cell_type": "code",
   "execution_count": 5,
   "metadata": {},
   "outputs": [
    {
     "name": "stdout",
     "output_type": "stream",
     "text": [
      "tensor([[1, 2, 3, 4],\n",
      "        [5, 6, 7, 8]])\n",
      " \n",
      "tensor([[1, 5],\n",
      "        [2, 6],\n",
      "        [3, 7],\n",
      "        [4, 8]])\n",
      " \n",
      "tensor([[1, 2, 3, 4],\n",
      "        [5, 6, 7, 8]])\n"
     ]
    }
   ],
   "source": [
    "# Matrix\n",
    "tM=torch.tensor([ [1,2,3,4],\n",
    "                  [5,6,7,8] ])\n",
    "print(tM), print(' ')\n",
    "\n",
    "# Transpose\n",
    "print(tM.T), print(' ')\n",
    "\n",
    "# Transpose.Transpose\n",
    "tMT=tM.T\n",
    "print(tMT.T)"
   ]
  },
  {
   "cell_type": "code",
   "execution_count": 7,
   "metadata": {},
   "outputs": [
    {
     "name": "stdout",
     "output_type": "stream",
     "text": [
      "Variable nv is of type: <class 'numpy.ndarray'>\n",
      "Variable nM is of type: <class 'numpy.ndarray'>\n",
      "Variable tv is of type: <class 'torch.Tensor'>\n",
      "Variable tM is of type: <class 'torch.Tensor'>\n"
     ]
    }
   ],
   "source": [
    "# data types\n",
    "print(f'Variable nv is of type: {type(nv)}')\n",
    "print(f'Variable nM is of type: {type(nM)}')\n",
    "print(f'Variable tv is of type: {type(tv)}')\n",
    "print(f'Variable tM is of type: {type(tM)}')"
   ]
  }
 ],
 "metadata": {
  "kernelspec": {
   "display_name": "Python 3",
   "language": "python",
   "name": "python3"
  },
  "language_info": {
   "codemirror_mode": {
    "name": "ipython",
    "version": 3
   },
   "file_extension": ".py",
   "mimetype": "text/x-python",
   "name": "python",
   "nbconvert_exporter": "python",
   "pygments_lexer": "ipython3",
   "version": "3.12.1"
  }
 },
 "nbformat": 4,
 "nbformat_minor": 2
}
