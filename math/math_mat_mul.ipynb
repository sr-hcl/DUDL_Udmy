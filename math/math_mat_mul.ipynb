{
 "cells": [
  {
   "cell_type": "code",
   "execution_count": 1,
   "metadata": {},
   "outputs": [],
   "source": [
    "import numpy as np\n",
    "import torch"
   ]
  },
  {
   "cell_type": "markdown",
   "metadata": {},
   "source": [
    "### Using numpy"
   ]
  },
  {
   "cell_type": "code",
   "execution_count": 5,
   "metadata": {},
   "outputs": [
    {
     "name": "stdout",
     "output_type": "stream",
     "text": [
      "[[ 1.98  0.71 -1.11 -1.07  0.74]\n",
      " [ 0.04 -0.32  1.1   0.78 -1.04]\n",
      " [-2.26  0.03 -1.18  2.66 -2.15]]\n",
      " \n",
      "[[ 2.11  0.73 -2.14 -1.78]\n",
      " [ 2.58  0.85 -5.16 -2.35]\n",
      " [-0.26  0.1   1.69  0.49]\n",
      " [-3.86 -1.95  0.21  2.44]\n",
      " [ 2.46  0.94 -3.19 -2.01]\n",
      " [ 0.02  0.65  0.13  0.64]\n",
      " [-1.55 -0.52  2.93  1.4 ]]\n"
     ]
    }
   ],
   "source": [
    "A=np.random.randn(3,4)\n",
    "B=np.random.randn(4,5)\n",
    "C=np.random.randn(3,7)\n",
    "\n",
    "# np.matmul(A,B) also works...\n",
    "print(np.round( A@B ,2)), print(' ') # (3,4)*(4,5). valid 3,5\n",
    "# print(np.round( A@C ,2)), print(' ') # (3,4)*(3,7). invalid\n",
    "# print(np.round( B@C ,2)), print(' ') # (4,5)*(3,7). invalid\n",
    "print(np.round( C.T@A ,2))#, print(' ') # (7,3)*(3,4). valid 7,4"
   ]
  },
  {
   "cell_type": "markdown",
   "metadata": {},
   "source": [
    "### Using pytorch"
   ]
  },
  {
   "cell_type": "code",
   "execution_count": 7,
   "metadata": {},
   "outputs": [
    {
     "name": "stdout",
     "output_type": "stream",
     "text": [
      "tensor([[-1.9500, -2.6800,  0.4300, -1.6800,  1.6400],\n",
      "        [-0.3600, -0.4500,  0.6400, -1.3000,  3.7600],\n",
      "        [-2.4500, -2.8300,  0.9500, -2.5200,  0.3400]])\n",
      " \n",
      "tensor([[ 0.4600,  4.2700, -3.3800, -1.2000, -1.4400, -3.6200, -0.9700],\n",
      "        [ 1.0800,  1.5400, -0.8600,  0.5700, -2.1900,  0.0900,  2.0700],\n",
      "        [-0.5600,  4.1900, -4.3500, -1.0700, -0.6700, -6.2000, -3.9400]],\n",
      "       dtype=torch.float64)\n",
      " \n",
      "tensor([[ 0.4600,  4.2700, -3.3800, -1.2000, -1.4400, -3.6200, -0.9700],\n",
      "        [ 1.0800,  1.5400, -0.8600,  0.5700, -2.1900,  0.0900,  2.0700],\n",
      "        [-0.5600,  4.1900, -4.3500, -1.0700, -0.6700, -6.2000, -3.9400]])\n"
     ]
    },
    {
     "name": "stderr",
     "output_type": "stream",
     "text": [
      "/tmp/ipykernel_17982/4117752469.py:8: DeprecationWarning: __array_wrap__ must accept context and return_scalar arguments (positionally) in the future. (Deprecated NumPy 2.0)\n",
      "  print(np.round( A@C1 ,2)), print(' ') # (3,4)*(4,7). valid 3,7\n"
     ]
    }
   ],
   "source": [
    "A=torch.randn(3,4)\n",
    "B=torch.randn(4,5)\n",
    "C1=np.random.randn(4,7)\n",
    "C2=torch.tensor( C1,dtype=torch.float )\n",
    "\n",
    "print(np.round( A@B ,2)), print(' ') # (3,4)*(4,5). valid 3,5\n",
    "# print(np.round( A@B.T ,2)), print(' ') # (3,4)*(5,4). invalid\n",
    "print(np.round( A@C1 ,2)), print(' ') # (3,4)*(4,7). valid 3,7\n",
    "print(np.round( A@C2 ,2))#, print(' ') # (3,4)*(4,7). valid 7,4"
   ]
  }
 ],
 "metadata": {
  "kernelspec": {
   "display_name": "Python 3",
   "language": "python",
   "name": "python3"
  },
  "language_info": {
   "codemirror_mode": {
    "name": "ipython",
    "version": 3
   },
   "file_extension": ".py",
   "mimetype": "text/x-python",
   "name": "python",
   "nbconvert_exporter": "python",
   "pygments_lexer": "ipython3",
   "version": "3.12.1"
  }
 },
 "nbformat": 4,
 "nbformat_minor": 2
}
