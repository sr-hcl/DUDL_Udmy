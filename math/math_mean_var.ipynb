{
 "cells": [
  {
   "cell_type": "code",
   "execution_count": 1,
   "metadata": {},
   "outputs": [],
   "source": [
    "import numpy as np"
   ]
  },
  {
   "cell_type": "code",
   "execution_count": 2,
   "metadata": {},
   "outputs": [
    {
     "name": "stdout",
     "output_type": "stream",
     "text": [
      "3.142857142857143\n",
      "3.142857142857143\n"
     ]
    }
   ],
   "source": [
    "x=[1,2,4,6,5,4,0]\n",
    "n=len(x)\n",
    "\n",
    "mean1=np.mean(x)\n",
    "mean2=np.sum(x)/n\n",
    "\n",
    "print(mean1)\n",
    "print(mean2)"
   ]
  },
  {
   "cell_type": "code",
   "execution_count": 6,
   "metadata": {},
   "outputs": [
    {
     "name": "stdout",
     "output_type": "stream",
     "text": [
      "4.122448979591836\n",
      "4.809523809523809\n",
      "4.809523809523809\n"
     ]
    }
   ],
   "source": [
    "var1=np.var(x) #ddof=0 default =>1/(n-0)\n",
    "var3=np.var(x,ddof=1)\n",
    "var2=np.sum((x-np.mean(x))**2)/(n-1)\n",
    "\n",
    "print(var1)\n",
    "print(var2)\n",
    "print(var3)"
   ]
  },
  {
   "cell_type": "code",
   "execution_count": 9,
   "metadata": {},
   "outputs": [
    {
     "name": "stdout",
     "output_type": "stream",
     "text": [
      "33.82611163999999\n",
      "33.82949458945894\n"
     ]
    }
   ],
   "source": [
    "# large N\n",
    "N=10000\n",
    "x=np.random.randint(0,high=20,size=N)\n",
    "\n",
    "var0=np.var(x,ddof=0) # default biased\n",
    "var1=np.var(x,ddof=1) # unbiased\n",
    "\n",
    "print(var0)\n",
    "print(var1)"
   ]
  }
 ],
 "metadata": {
  "kernelspec": {
   "display_name": "Python 3",
   "language": "python",
   "name": "python3"
  },
  "language_info": {
   "codemirror_mode": {
    "name": "ipython",
    "version": 3
   },
   "file_extension": ".py",
   "mimetype": "text/x-python",
   "name": "python",
   "nbconvert_exporter": "python",
   "pygments_lexer": "ipython3",
   "version": "3.12.1"
  }
 },
 "nbformat": 4,
 "nbformat_minor": 2
}
