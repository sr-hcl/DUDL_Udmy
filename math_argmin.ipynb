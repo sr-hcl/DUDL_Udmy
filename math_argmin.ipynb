{
 "cells": [
  {
   "cell_type": "code",
   "execution_count": 1,
   "metadata": {},
   "outputs": [],
   "source": [
    "import numpy as np\n",
    "import torch\n",
    "import torch.nn as nn"
   ]
  },
  {
   "cell_type": "markdown",
   "metadata": {},
   "source": [
    "### Using numpy"
   ]
  },
  {
   "cell_type": "code",
   "execution_count": 3,
   "metadata": {},
   "outputs": [
    {
     "name": "stdout",
     "output_type": "stream",
     "text": [
      "Min_val, max_val :(np.int64(-3), np.int64(40))\n",
      "Min,max indices: (np.int64(3), np.int64(1))\n",
      "For reference, v: [ 1 40  2 -3]\n"
     ]
    }
   ],
   "source": [
    "v=np.array([ 1,40,2,-3 ])\n",
    "\n",
    "# min/max values\n",
    "minval=np.min(v)\n",
    "maxval=np.max(v)\n",
    "\n",
    "print(f'Min_val, max_val :{minval, maxval}')\n",
    "\n",
    "# argmin/argmax\n",
    "minidx=np.argmin(v)\n",
    "maxidx=np.argmax(v)\n",
    "\n",
    "print(f'Min,max indices: {minidx, maxidx}')\n",
    "\n",
    "print(f'For reference, v: {v}')\n",
    "\n",
    "# zeros indiced indices"
   ]
  },
  {
   "cell_type": "code",
   "execution_count": 4,
   "metadata": {},
   "outputs": [
    {
     "name": "stdout",
     "output_type": "stream",
     "text": [
      "[[ 0  1 10]\n",
      " [20  8  5]]\n",
      "0\n",
      "[0 1 5]\n",
      "[0 5]\n"
     ]
    }
   ],
   "source": [
    "# Matrices...\n",
    "M=np.array([ [0,1,10],\n",
    "             [20,8,5]\n",
    "           ])\n",
    "print(M)\n",
    "\n",
    "# various minima in a matrix\n",
    "minvals1=np.min(M) # min in entire matrix\n",
    "minvals2=np.min(M,axis=0) # min of each column\n",
    "minvals3=np.min(M,axis=1) # min of each row \n",
    "\n",
    "print(minvals1)\n",
    "print(minvals2)\n",
    "print(minvals3)"
   ]
  },
  {
   "cell_type": "code",
   "execution_count": 5,
   "metadata": {},
   "outputs": [
    {
     "name": "stdout",
     "output_type": "stream",
     "text": [
      "[[ 0  1 10]\n",
      " [20  8  5]]\n",
      " \n",
      "0\n",
      "[0 0 1]\n",
      "[0 2]\n"
     ]
    }
   ],
   "source": [
    "#  minima idx\n",
    "minidx1=np.argmin(M) # min from entire matrix\n",
    "minidx2=np.argmin(M,axis=0) # min from each column\n",
    "minidx3=np.argmin(M,axis=1) # min from each row\n",
    "\n",
    "print(M), print(' ')\n",
    "print(minidx1)\n",
    "print(minidx2)\n",
    "print(minidx3)"
   ]
  },
  {
   "cell_type": "markdown",
   "metadata": {},
   "source": [
    "### Using pytorch"
   ]
  },
  {
   "cell_type": "code",
   "execution_count": 6,
   "metadata": {},
   "outputs": [
    {
     "name": "stdout",
     "output_type": "stream",
     "text": [
      "Min, max values: (tensor(-3), tensor(40))\n",
      "Min, max indices: (tensor(3), tensor(1))\n",
      "v for ref: tensor([ 1, 40,  2, -3])\n"
     ]
    }
   ],
   "source": [
    "v=torch.tensor([1,40,2,-3])\n",
    "\n",
    "minval=torch.min(v)\n",
    "maxval=torch.max(v)\n",
    "\n",
    "print(f'Min, max values: {minval, maxval}')\n",
    "\n",
    "# argmin, argmax\n",
    "minidx=torch.argmin(v)\n",
    "maxidx=torch.argmax(v)\n",
    "\n",
    "print(f'Min, max indices: {minidx, maxidx}')\n",
    "\n",
    "print(f'v for ref: {v}')"
   ]
  },
  {
   "cell_type": "code",
   "execution_count": 8,
   "metadata": {},
   "outputs": [
    {
     "name": "stdout",
     "output_type": "stream",
     "text": [
      "tensor([[ 0,  1, 10],\n",
      "        [20,  8,  5]])\n",
      " \n",
      "tensor(0)\n",
      " \n",
      "torch.return_types.min(\n",
      "values=tensor([0, 1, 5]),\n",
      "indices=tensor([0, 0, 1]))\n",
      " \n",
      "tensor([0, 1, 5])\n",
      " \n",
      "tensor([0, 0, 1])\n"
     ]
    }
   ],
   "source": [
    "# matrix\n",
    "M=torch.tensor([[0,1,10],\n",
    "                [20,8,5]])\n",
    "print(M), print(' ')\n",
    "\n",
    "# various minima\n",
    "min1=torch.min(M) #min of entire\n",
    "min2=torch.min(M,axis=0) # min of each column\n",
    "min3=torch.min(M,axis=1) # min of each row\n",
    "\n",
    "print(min1), print(' ')\n",
    "print(min2), print(' ')\n",
    "print(min2.values), print(' ')\n",
    "print(min2.indices)"
   ]
  }
 ],
 "metadata": {
  "kernelspec": {
   "display_name": "Python 3",
   "language": "python",
   "name": "python3"
  },
  "language_info": {
   "codemirror_mode": {
    "name": "ipython",
    "version": 3
   },
   "file_extension": ".py",
   "mimetype": "text/x-python",
   "name": "python",
   "nbconvert_exporter": "python",
   "pygments_lexer": "ipython3",
   "version": "3.12.1"
  }
 },
 "nbformat": 4,
 "nbformat_minor": 2
}
